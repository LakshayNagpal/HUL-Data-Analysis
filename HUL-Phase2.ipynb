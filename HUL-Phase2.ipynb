{
 "cells": [
  {
   "cell_type": "code",
   "execution_count": 52,
   "metadata": {
    "collapsed": true
   },
   "outputs": [],
   "source": [
    "import numpy as np\n",
    "import pandas as pd\n",
    "import matplotlib.pyplot as plt\n",
    "import matplotlib\n",
    "import seaborn as sns"
   ]
  },
  {
   "cell_type": "code",
   "execution_count": 53,
   "metadata": {},
   "outputs": [],
   "source": [
    "# Reading data into notebook\n",
    "store_raw = pd.read_csv('BUSY.csv', usecols=[0])"
   ]
  },
  {
   "cell_type": "code",
   "execution_count": 54,
   "metadata": {},
   "outputs": [
    {
     "data": {
      "text/html": [
       "<div>\n",
       "<style>\n",
       "    .dataframe thead tr:only-child th {\n",
       "        text-align: right;\n",
       "    }\n",
       "\n",
       "    .dataframe thead th {\n",
       "        text-align: left;\n",
       "    }\n",
       "\n",
       "    .dataframe tbody tr th {\n",
       "        vertical-align: top;\n",
       "    }\n",
       "</style>\n",
       "<table border=\"1\" class=\"dataframe\">\n",
       "  <thead>\n",
       "    <tr style=\"text-align: right;\">\n",
       "      <th></th>\n",
       "      <th>POS_Application_Name|STOREID|MACID|BILLNO|BARCODE|GUID|CREATED_STAMP|CAPTURED_WINDOW|UPDATE_STAMP</th>\n",
       "    </tr>\n",
       "  </thead>\n",
       "  <tbody>\n",
       "    <tr>\n",
       "      <th>0</th>\n",
       "      <td>BUSY|DEL0000001446|counter1|counter1DEL0000001...</td>\n",
       "    </tr>\n",
       "    <tr>\n",
       "      <th>1</th>\n",
       "      <td>BUSY|DEL0000001446|counter1|counter1DEL0000001...</td>\n",
       "    </tr>\n",
       "    <tr>\n",
       "      <th>2</th>\n",
       "      <td>BUSY|DEL0000001446|counter1|counter1DEL0000001...</td>\n",
       "    </tr>\n",
       "    <tr>\n",
       "      <th>3</th>\n",
       "      <td>BUSY|DEL0000001446|counter1|counter1DEL0000001...</td>\n",
       "    </tr>\n",
       "    <tr>\n",
       "      <th>4</th>\n",
       "      <td>BUSY|DEL0000001446|counter1|counter1DEL0000001...</td>\n",
       "    </tr>\n",
       "    <tr>\n",
       "      <th>5</th>\n",
       "      <td>BUSY|DEL0000001446|counter1|counter1DEL0000001...</td>\n",
       "    </tr>\n",
       "    <tr>\n",
       "      <th>6</th>\n",
       "      <td>BUSY|DEL0000001446|counter1|counter1DEL0000001...</td>\n",
       "    </tr>\n",
       "    <tr>\n",
       "      <th>7</th>\n",
       "      <td>BUSY|DEL0000001446|counter1|counter1DEL0000001...</td>\n",
       "    </tr>\n",
       "    <tr>\n",
       "      <th>8</th>\n",
       "      <td>BUSY|DEL0000001446|counter1|counter1DEL0000001...</td>\n",
       "    </tr>\n",
       "    <tr>\n",
       "      <th>9</th>\n",
       "      <td>BUSY|DEL0000001446|counter1|counter1DEL0000001...</td>\n",
       "    </tr>\n",
       "  </tbody>\n",
       "</table>\n",
       "</div>"
      ],
      "text/plain": [
       "  POS_Application_Name|STOREID|MACID|BILLNO|BARCODE|GUID|CREATED_STAMP|CAPTURED_WINDOW|UPDATE_STAMP\n",
       "0  BUSY|DEL0000001446|counter1|counter1DEL0000001...                                               \n",
       "1  BUSY|DEL0000001446|counter1|counter1DEL0000001...                                               \n",
       "2  BUSY|DEL0000001446|counter1|counter1DEL0000001...                                               \n",
       "3  BUSY|DEL0000001446|counter1|counter1DEL0000001...                                               \n",
       "4  BUSY|DEL0000001446|counter1|counter1DEL0000001...                                               \n",
       "5  BUSY|DEL0000001446|counter1|counter1DEL0000001...                                               \n",
       "6  BUSY|DEL0000001446|counter1|counter1DEL0000001...                                               \n",
       "7  BUSY|DEL0000001446|counter1|counter1DEL0000001...                                               \n",
       "8  BUSY|DEL0000001446|counter1|counter1DEL0000001...                                               \n",
       "9  BUSY|DEL0000001446|counter1|counter1DEL0000001...                                               "
      ]
     },
     "execution_count": 54,
     "metadata": {},
     "output_type": "execute_result"
    }
   ],
   "source": [
    "matplotlib.style.use('ggplot')\n",
    "store_raw.head(10)"
   ]
  },
  {
   "cell_type": "markdown",
   "metadata": {},
   "source": [
    "## Data Wrangling Phase\n",
    "\n"
   ]
  },
  {
   "cell_type": "code",
   "execution_count": 55,
   "metadata": {},
   "outputs": [],
   "source": [
    "# foo = lambda x: pd.Series([i for i in reversed(x.split('|'))])\n",
    "# rev = store_raw['POS_Application_Name, STOREID, MACID, BILLNO, BARCODE, GUID, CREATED_STAMP, CAPTURED_WINDOW, UPDATE_STAMP'].apply(foo)\n",
    "# rev\n",
    "initial = 'POS_Application_Name|STOREID|MACID|BILLNO|BARCODE|GUID|CREATED_STAMP|CAPTURED_WINDOW|UPDATE_STAMP'\n",
    "store_raw = store_raw[initial].str.split('|', expand=True)"
   ]
  },
  {
   "cell_type": "code",
   "execution_count": 56,
   "metadata": {},
   "outputs": [],
   "source": [
    "store = store_raw.drop([9,10,11,12,13,14,15,16], axis=1)"
   ]
  },
  {
   "cell_type": "code",
   "execution_count": 57,
   "metadata": {},
   "outputs": [
    {
     "data": {
      "text/plain": [
       "0    462463\n",
       "1    462463\n",
       "2    462463\n",
       "3    462463\n",
       "4    462463\n",
       "5    462463\n",
       "6    462463\n",
       "7    462463\n",
       "8    462381\n",
       "dtype: int64"
      ]
     },
     "execution_count": 57,
     "metadata": {},
     "output_type": "execute_result"
    }
   ],
   "source": [
    "store.count()"
   ]
  },
  {
   "cell_type": "code",
   "execution_count": 58,
   "metadata": {},
   "outputs": [
    {
     "data": {
      "text/plain": [
       "0    462381\n",
       "1    462381\n",
       "2    462381\n",
       "3    462381\n",
       "4    462381\n",
       "5    462381\n",
       "6    462381\n",
       "7    462381\n",
       "8    462381\n",
       "dtype: int64"
      ]
     },
     "execution_count": 58,
     "metadata": {},
     "output_type": "execute_result"
    }
   ],
   "source": [
    "store.dropna(inplace=True)\n",
    "store.count()"
   ]
  },
  {
   "cell_type": "code",
   "execution_count": 59,
   "metadata": {
    "collapsed": true
   },
   "outputs": [],
   "source": [
    "store.columns = ['POS_Application_Name', 'STOREID','MACID','BILLNO','BARCODE','GUID','CREATED_STAMP','CAPTURED_WINDOW','UPDATE_STAMP']"
   ]
  },
  {
   "cell_type": "markdown",
   "metadata": {},
   "source": [
    "## Exploration Phase\n",
    "\n",
    "In this phase we will explore our data in more detail and extract out the analysis and prove them with the help of visualizations."
   ]
  },
  {
   "cell_type": "code",
   "execution_count": 60,
   "metadata": {},
   "outputs": [
    {
     "data": {
      "text/html": [
       "<div>\n",
       "<style>\n",
       "    .dataframe thead tr:only-child th {\n",
       "        text-align: right;\n",
       "    }\n",
       "\n",
       "    .dataframe thead th {\n",
       "        text-align: left;\n",
       "    }\n",
       "\n",
       "    .dataframe tbody tr th {\n",
       "        vertical-align: top;\n",
       "    }\n",
       "</style>\n",
       "<table border=\"1\" class=\"dataframe\">\n",
       "  <thead>\n",
       "    <tr style=\"text-align: right;\">\n",
       "      <th></th>\n",
       "      <th>POS_Application_Name</th>\n",
       "      <th>STOREID</th>\n",
       "      <th>MACID</th>\n",
       "      <th>BILLNO</th>\n",
       "      <th>BARCODE</th>\n",
       "      <th>GUID</th>\n",
       "      <th>CREATED_STAMP</th>\n",
       "      <th>CAPTURED_WINDOW</th>\n",
       "      <th>UPDATE_STAMP</th>\n",
       "    </tr>\n",
       "  </thead>\n",
       "  <tbody>\n",
       "    <tr>\n",
       "      <th>0</th>\n",
       "      <td>BUSY</td>\n",
       "      <td>DEL0000001446</td>\n",
       "      <td>counter1</td>\n",
       "      <td>counter1DEL000000144630280</td>\n",
       "      <td>8901399058561</td>\n",
       "      <td>a71a95e9-a4a5-4677-9d56-19102598a8ba</td>\n",
       "      <td>2017-01-01 11:55:38.916</td>\n",
       "      <td>NULL</td>\n",
       "      <td>2017-01-01 11:55:46.573</td>\n",
       "    </tr>\n",
       "    <tr>\n",
       "      <th>1</th>\n",
       "      <td>BUSY</td>\n",
       "      <td>DEL0000001446</td>\n",
       "      <td>counter1</td>\n",
       "      <td>counter1DEL000000144630280</td>\n",
       "      <td>8901030349751</td>\n",
       "      <td>aa7aa16c-e4c1-4d31-bd83-7fe621172869</td>\n",
       "      <td>2017-01-01 11:55:45.234</td>\n",
       "      <td>NULL</td>\n",
       "      <td>2017-01-01 12:05:46.027</td>\n",
       "    </tr>\n",
       "    <tr>\n",
       "      <th>2</th>\n",
       "      <td>BUSY</td>\n",
       "      <td>DEL0000001446</td>\n",
       "      <td>counter1</td>\n",
       "      <td>counter1DEL000000144630280</td>\n",
       "      <td>89010303497519018030349751</td>\n",
       "      <td>31b5ce5a-270f-4629-8cf7-feea2c5f4c88</td>\n",
       "      <td>2017-01-01 11:55:45.437</td>\n",
       "      <td>NULL</td>\n",
       "      <td>2017-01-01 12:05:46.068</td>\n",
       "    </tr>\n",
       "    <tr>\n",
       "      <th>3</th>\n",
       "      <td>BUSY</td>\n",
       "      <td>DEL0000001446</td>\n",
       "      <td>counter1</td>\n",
       "      <td>counter1DEL000000144630280</td>\n",
       "      <td>8910030349751</td>\n",
       "      <td>4bfacfcd-777e-4e9b-a5df-04166533e5b4</td>\n",
       "      <td>2017-01-01 11:55:45.562</td>\n",
       "      <td>NULL</td>\n",
       "      <td>2017-01-01 12:05:46.090</td>\n",
       "    </tr>\n",
       "    <tr>\n",
       "      <th>4</th>\n",
       "      <td>BUSY</td>\n",
       "      <td>DEL0000001446</td>\n",
       "      <td>counter1</td>\n",
       "      <td>counter1DEL000000144630281</td>\n",
       "      <td>8906002432587</td>\n",
       "      <td>0718888b-3e81-478a-900b-e299d4a500e7</td>\n",
       "      <td>2017-01-01 12:05:02.173</td>\n",
       "      <td>NULL</td>\n",
       "      <td>2017-01-01 12:05:46.123</td>\n",
       "    </tr>\n",
       "    <tr>\n",
       "      <th>5</th>\n",
       "      <td>BUSY</td>\n",
       "      <td>DEL0000001446</td>\n",
       "      <td>counter1</td>\n",
       "      <td>counter1DEL000000144630281</td>\n",
       "      <td>002342587</td>\n",
       "      <td>83f2543b-d25f-4ab9-b3d1-db752213967c</td>\n",
       "      <td>2017-01-01 12:05:02.376</td>\n",
       "      <td>NULL</td>\n",
       "      <td>2017-01-01 12:05:46.164</td>\n",
       "    </tr>\n",
       "    <tr>\n",
       "      <th>6</th>\n",
       "      <td>BUSY</td>\n",
       "      <td>DEL0000001446</td>\n",
       "      <td>counter1</td>\n",
       "      <td>counter1DEL000000144630281</td>\n",
       "      <td>8906001055983</td>\n",
       "      <td>4f127c90-3867-45c4-bc0d-c211ec16cf21</td>\n",
       "      <td>2017-01-01 12:05:12.017</td>\n",
       "      <td>NULL</td>\n",
       "      <td>2017-01-01 12:05:46.216</td>\n",
       "    </tr>\n",
       "    <tr>\n",
       "      <th>7</th>\n",
       "      <td>BUSY</td>\n",
       "      <td>DEL0000001446</td>\n",
       "      <td>counter1</td>\n",
       "      <td>counter1DEL000000144630281</td>\n",
       "      <td>0553</td>\n",
       "      <td>44359099-42ce-4116-a854-5f01d6b06bd7</td>\n",
       "      <td>2017-01-01 12:05:12.204</td>\n",
       "      <td>NULL</td>\n",
       "      <td>2017-01-01 12:05:46.254</td>\n",
       "    </tr>\n",
       "    <tr>\n",
       "      <th>8</th>\n",
       "      <td>BUSY</td>\n",
       "      <td>DEL0000001446</td>\n",
       "      <td>counter1</td>\n",
       "      <td>counter1DEL000000144630281</td>\n",
       "      <td>906850510001</td>\n",
       "      <td>bf048bf1-bbad-4be0-9541-339e9c5b7ac4</td>\n",
       "      <td>2017-01-01 12:05:16.619</td>\n",
       "      <td>NULL</td>\n",
       "      <td>2017-01-01 12:05:46.284</td>\n",
       "    </tr>\n",
       "    <tr>\n",
       "      <th>9</th>\n",
       "      <td>BUSY</td>\n",
       "      <td>DEL0000001446</td>\n",
       "      <td>counter1</td>\n",
       "      <td>counter1DEL000000144630283</td>\n",
       "      <td>8906007281980</td>\n",
       "      <td>5875c7ff-254e-4f60-be90-c04a445279de</td>\n",
       "      <td>2017-01-01 13:02:36.693</td>\n",
       "      <td>NULL</td>\n",
       "      <td>2017-01-01 13:05:46.245</td>\n",
       "    </tr>\n",
       "  </tbody>\n",
       "</table>\n",
       "</div>"
      ],
      "text/plain": [
       "  POS_Application_Name        STOREID     MACID                      BILLNO  \\\n",
       "0                 BUSY  DEL0000001446  counter1  counter1DEL000000144630280   \n",
       "1                 BUSY  DEL0000001446  counter1  counter1DEL000000144630280   \n",
       "2                 BUSY  DEL0000001446  counter1  counter1DEL000000144630280   \n",
       "3                 BUSY  DEL0000001446  counter1  counter1DEL000000144630280   \n",
       "4                 BUSY  DEL0000001446  counter1  counter1DEL000000144630281   \n",
       "5                 BUSY  DEL0000001446  counter1  counter1DEL000000144630281   \n",
       "6                 BUSY  DEL0000001446  counter1  counter1DEL000000144630281   \n",
       "7                 BUSY  DEL0000001446  counter1  counter1DEL000000144630281   \n",
       "8                 BUSY  DEL0000001446  counter1  counter1DEL000000144630281   \n",
       "9                 BUSY  DEL0000001446  counter1  counter1DEL000000144630283   \n",
       "\n",
       "                      BARCODE                                  GUID  \\\n",
       "0               8901399058561  a71a95e9-a4a5-4677-9d56-19102598a8ba   \n",
       "1               8901030349751  aa7aa16c-e4c1-4d31-bd83-7fe621172869   \n",
       "2  89010303497519018030349751  31b5ce5a-270f-4629-8cf7-feea2c5f4c88   \n",
       "3               8910030349751  4bfacfcd-777e-4e9b-a5df-04166533e5b4   \n",
       "4               8906002432587  0718888b-3e81-478a-900b-e299d4a500e7   \n",
       "5                   002342587  83f2543b-d25f-4ab9-b3d1-db752213967c   \n",
       "6               8906001055983  4f127c90-3867-45c4-bc0d-c211ec16cf21   \n",
       "7                        0553  44359099-42ce-4116-a854-5f01d6b06bd7   \n",
       "8                906850510001  bf048bf1-bbad-4be0-9541-339e9c5b7ac4   \n",
       "9               8906007281980  5875c7ff-254e-4f60-be90-c04a445279de   \n",
       "\n",
       "             CREATED_STAMP CAPTURED_WINDOW             UPDATE_STAMP  \n",
       "0  2017-01-01 11:55:38.916            NULL  2017-01-01 11:55:46.573  \n",
       "1  2017-01-01 11:55:45.234            NULL  2017-01-01 12:05:46.027  \n",
       "2  2017-01-01 11:55:45.437            NULL  2017-01-01 12:05:46.068  \n",
       "3  2017-01-01 11:55:45.562            NULL  2017-01-01 12:05:46.090  \n",
       "4  2017-01-01 12:05:02.173            NULL  2017-01-01 12:05:46.123  \n",
       "5  2017-01-01 12:05:02.376            NULL  2017-01-01 12:05:46.164  \n",
       "6  2017-01-01 12:05:12.017            NULL  2017-01-01 12:05:46.216  \n",
       "7  2017-01-01 12:05:12.204            NULL  2017-01-01 12:05:46.254  \n",
       "8  2017-01-01 12:05:16.619            NULL  2017-01-01 12:05:46.284  \n",
       "9  2017-01-01 13:02:36.693            NULL  2017-01-01 13:05:46.245  "
      ]
     },
     "execution_count": 60,
     "metadata": {},
     "output_type": "execute_result"
    }
   ],
   "source": [
    "store.head(10)"
   ]
  },
  {
   "cell_type": "code",
   "execution_count": 61,
   "metadata": {},
   "outputs": [
    {
     "data": {
      "text/html": [
       "<div>\n",
       "<style>\n",
       "    .dataframe thead tr:only-child th {\n",
       "        text-align: right;\n",
       "    }\n",
       "\n",
       "    .dataframe thead th {\n",
       "        text-align: left;\n",
       "    }\n",
       "\n",
       "    .dataframe tbody tr th {\n",
       "        vertical-align: top;\n",
       "    }\n",
       "</style>\n",
       "<table border=\"1\" class=\"dataframe\">\n",
       "  <thead>\n",
       "    <tr style=\"text-align: right;\">\n",
       "      <th></th>\n",
       "      <th>POS_Application_Name</th>\n",
       "      <th>STOREID</th>\n",
       "      <th>MACID</th>\n",
       "      <th>BILLNO</th>\n",
       "      <th>BARCODE</th>\n",
       "      <th>GUID</th>\n",
       "      <th>CREATED_STAMP</th>\n",
       "      <th>CAPTURED_WINDOW</th>\n",
       "      <th>UPDATE_STAMP</th>\n",
       "    </tr>\n",
       "  </thead>\n",
       "  <tbody>\n",
       "    <tr>\n",
       "      <th>count</th>\n",
       "      <td>462381</td>\n",
       "      <td>462381</td>\n",
       "      <td>462381</td>\n",
       "      <td>462381</td>\n",
       "      <td>462381</td>\n",
       "      <td>462381</td>\n",
       "      <td>462381</td>\n",
       "      <td>462381</td>\n",
       "      <td>462381</td>\n",
       "    </tr>\n",
       "    <tr>\n",
       "      <th>unique</th>\n",
       "      <td>1</td>\n",
       "      <td>5</td>\n",
       "      <td>15</td>\n",
       "      <td>32111</td>\n",
       "      <td>32690</td>\n",
       "      <td>462376</td>\n",
       "      <td>461553</td>\n",
       "      <td>668</td>\n",
       "      <td>461180</td>\n",
       "    </tr>\n",
       "    <tr>\n",
       "      <th>top</th>\n",
       "      <td>BUSY</td>\n",
       "      <td>DEL0000000103</td>\n",
       "      <td>counter1</td>\n",
       "      <td>Counter2DEL0000000103817</td>\n",
       "      <td>1</td>\n",
       "      <td>0</td>\n",
       "      <td>2017-01-11 22:50:20.155</td>\n",
       "      <td>NULL</td>\n",
       "      <td>Demo-15 User</td>\n",
       "    </tr>\n",
       "    <tr>\n",
       "      <th>freq</th>\n",
       "      <td>462381</td>\n",
       "      <td>342270</td>\n",
       "      <td>398236</td>\n",
       "      <td>3744</td>\n",
       "      <td>82820</td>\n",
       "      <td>4</td>\n",
       "      <td>4</td>\n",
       "      <td>421865</td>\n",
       "      <td>702</td>\n",
       "    </tr>\n",
       "  </tbody>\n",
       "</table>\n",
       "</div>"
      ],
      "text/plain": [
       "       POS_Application_Name        STOREID     MACID  \\\n",
       "count                462381         462381    462381   \n",
       "unique                    1              5        15   \n",
       "top                    BUSY  DEL0000000103  counter1   \n",
       "freq                 462381         342270    398236   \n",
       "\n",
       "                          BILLNO BARCODE    GUID            CREATED_STAMP  \\\n",
       "count                     462381  462381  462381                   462381   \n",
       "unique                     32111   32690  462376                   461553   \n",
       "top     Counter2DEL0000000103817       1       0  2017-01-11 22:50:20.155   \n",
       "freq                        3744   82820       4                        4   \n",
       "\n",
       "       CAPTURED_WINDOW  UPDATE_STAMP  \n",
       "count           462381        462381  \n",
       "unique             668        461180  \n",
       "top               NULL  Demo-15 User  \n",
       "freq            421865           702  "
      ]
     },
     "execution_count": 61,
     "metadata": {},
     "output_type": "execute_result"
    }
   ],
   "source": [
    "store.describe()"
   ]
  },
  {
   "cell_type": "code",
   "execution_count": 62,
   "metadata": {},
   "outputs": [
    {
     "data": {
      "text/plain": [
       "STOREID\n",
       "DEL0000000103    342270\n",
       "DEL0000001184     26307\n",
       "DEL0000001446     63377\n",
       "UPR0000001228       344\n",
       "UPR0000002773     30083\n",
       "Name: BARCODE, dtype: int64"
      ]
     },
     "execution_count": 62,
     "metadata": {},
     "output_type": "execute_result"
    }
   ],
   "source": [
    "x = store.groupby(['STOREID'])['BARCODE'].count()\n",
    "x"
   ]
  },
  {
   "cell_type": "code",
   "execution_count": 65,
   "metadata": {},
   "outputs": [
    {
     "name": "stdout",
     "output_type": "stream",
     "text": [
      "Populating the interactive namespace from numpy and matplotlib\n"
     ]
    },
    {
     "data": {
      "text/plain": [
       "[<matplotlib.text.Text at 0x90f7b668>, <matplotlib.text.Text at 0x90eb14e0>]"
      ]
     },
     "execution_count": 65,
     "metadata": {},
     "output_type": "execute_result"
    },
    {
     "data": {
      "image/png": "[encoded data removed]",
      "text/plain": [
       "<matplotlib.figure.Figure at 0x90ee2198>"
      ]
     },
     "metadata": {},
     "output_type": "display_data"
    }
   ],
   "source": [
    "%pylab inline\n",
    "\n",
    "ax = x.plot(kind='bar',\n",
    "            title='Number of stores',\n",
    "            grid=True,\n",
    "            legend=True,\n",
    "            color=\"green\")\n",
    "ax.set(xlabel=\"Male or Female\", ylabel=\"percentage of people saved\")"
   ]
  },
  {
   "cell_type": "code",
   "execution_count": 80,
   "metadata": {},
   "outputs": [
    {
     "data": {
      "text/plain": [
       "MACID\n",
       "23372129         1\n",
       "23942158         1\n",
       "24749329         1\n",
       "24920107         1\n",
       "24971184         1\n",
       "25107385         1\n",
       "25146601         1\n",
       "COUNTER8      3544\n",
       "Counter1     49129\n",
       "Counter2      7449\n",
       "Counter3       674\n",
       "Counter4        87\n",
       "Counter5      3020\n",
       "counter1    398236\n",
       "counter2       235\n",
       "Name: BARCODE, dtype: int64"
      ]
     },
     "execution_count": 80,
     "metadata": {},
     "output_type": "execute_result"
    }
   ],
   "source": [
    "y = store.groupby(['MACID'])['BARCODE'].count()\n",
    "y"
   ]
  },
  {
   "cell_type": "code",
   "execution_count": 90,
   "metadata": {},
   "outputs": [
    {
     "data": {
      "text/plain": [
       "MACID\n",
       "COUNTER8     3544\n",
       "Counter1    49129\n",
       "Counter2     7449\n",
       "Counter3      674\n",
       "Counter4       87\n",
       "Counter5     3020\n",
       "counter2      235\n",
       "Name: BARCODE, dtype: int64"
      ]
     },
     "execution_count": 90,
     "metadata": {},
     "output_type": "execute_result"
    }
   ],
   "source": [
    "z = y[y >= y.median()]\n",
    "z = z[z < z.max()]    # Removing outlier\n",
    "z"
   ]
  },
  {
   "cell_type": "code",
   "execution_count": 99,
   "metadata": {},
   "outputs": [
    {
     "data": {
      "text/plain": [
       "[<matplotlib.text.Text at 0x91d31080>, <matplotlib.text.Text at 0x917d49b0>]"
      ]
     },
     "execution_count": 99,
     "metadata": {},
     "output_type": "execute_result"
    },
    {
     "data": {
      "image/png": "[encoded data removed]",
      "text/plain": [
       "<matplotlib.figure.Figure at 0x91c0bb70>"
      ]
     },
     "metadata": {},
     "output_type": "display_data"
    }
   ],
   "source": [
    "ax = z.plot(kind='bar',\n",
    "            title='Number of stores',\n",
    "            grid=True,\n",
    "            legend=True,\n",
    "            color=\"blue\")\n",
    "ax.set(xlabel=\"Male or Female\", ylabel=\"percentage of people saved\")"
   ]
  },
  {
   "cell_type": "code",
   "execution_count": 124,
   "metadata": {},
   "outputs": [
    {
     "data": {
      "image/png": "[encoded data removed]",
      "text/plain": [
       "<matplotlib.figure.Figure at 0x91fa0dd8>"
      ]
     },
     "metadata": {},
     "output_type": "display_data"
    }
   ],
   "source": [
    "fig, ax = plt.subplots()\n",
    "rects1 = ax.bar(np.arange(z.count()), z, 0.5, color='r')\n",
    "\n",
    "def autolabel(rects):\n",
    "    \"\"\"\n",
    "    Attach a text label above each bar displaying its height\n",
    "    \"\"\"\n",
    "    for rect in rects:\n",
    "        height = rect.get_height()\n",
    "        ax.text(rect.get_x() + rect.get_width()/2., 1.05*height,\n",
    "                '%d' % int(height),\n",
    "                ha='center', va='bottom')\n",
    "        \n",
    "\n",
    "autolabel(rects1)\n",
    "plt.show()"
   ]
  },
  {
   "cell_type": "code",
   "execution_count": 157,
   "metadata": {},
   "outputs": [
    {
     "data": {
      "image/png": "[encoded data removed]",
      "text/plain": [
       "<matplotlib.figure.Figure at 0x92aeb2e8>"
      ]
     },
     "metadata": {},
     "output_type": "display_data"
    }
   ],
   "source": [
    "fig, ax1 = plt.subplots(figsize=(10,5))\n",
    "rects1 = ax1.bar(np.arange(x.count()), x, 0.5, color='r',label='schb')\n",
    "ax1.set_ylabel('Scores')\n",
    "ax1.set_title('Scores by group and gender')\n",
    "ax1.legend(loc='upper right')\n",
    "for i in range(0,len(x)):\n",
    "    ax1.text(i, x.iloc[i], x.iloc[i], color='blue', fontweight='bold',ha='center')\n",
    "\n",
    "plt.show()\n"
   ]
  }
 ],
 "metadata": {
  "kernelspec": {
   "display_name": "Python 2",
   "language": "python",
   "name": "python2"
  },
  "language_info": {
   "codemirror_mode": {
    "name": "ipython",
    "version": 2
   },
   "file_extension": ".py",
   "mimetype": "text/x-python",
   "name": "python",
   "nbconvert_exporter": "python",
   "pygments_lexer": "ipython2",
   "version": "2.7.13"
  }
 },
 "nbformat": 4,
 "nbformat_minor": 2
}
