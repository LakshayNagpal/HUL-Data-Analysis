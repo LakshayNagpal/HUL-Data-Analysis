{
 "cells": [
  {
   "cell_type": "code",
   "execution_count": 1,
   "metadata": {
    "collapsed": true
   },
   "outputs": [],
   "source": [
    "import numpy as np\n",
    "import pandas as pd\n",
    "import matplotlib.pyplot as plt\n",
    "import matplotlib\n",
    "import seaborn as sns"
   ]
  },
  {
   "cell_type": "code",
   "execution_count": 2,
   "metadata": {
    "collapsed": true
   },
   "outputs": [],
   "source": [
    "# Reading data into notebook\n",
    "store_raw = pd.read_csv('BUSY.csv', usecols=[0])"
   ]
  },
  {
   "cell_type": "code",
   "execution_count": 3,
   "metadata": {},
   "outputs": [
    {
     "data": {
      "text/html": [
       "<div>\n",
       "<style>\n",
       "    .dataframe thead tr:only-child th {\n",
       "        text-align: right;\n",
       "    }\n",
       "\n",
       "    .dataframe thead th {\n",
       "        text-align: left;\n",
       "    }\n",
       "\n",
       "    .dataframe tbody tr th {\n",
       "        vertical-align: top;\n",
       "    }\n",
       "</style>\n",
       "<table border=\"1\" class=\"dataframe\">\n",
       "  <thead>\n",
       "    <tr style=\"text-align: right;\">\n",
       "      <th></th>\n",
       "      <th>POS_Application_Name|STOREID|MACID|BILLNO|BARCODE|GUID|CREATED_STAMP|CAPTURED_WINDOW|UPDATE_STAMP</th>\n",
       "    </tr>\n",
       "  </thead>\n",
       "  <tbody>\n",
       "    <tr>\n",
       "      <th>0</th>\n",
       "      <td>BUSY|DEL0000001446|counter1|counter1DEL0000001...</td>\n",
       "    </tr>\n",
       "    <tr>\n",
       "      <th>1</th>\n",
       "      <td>BUSY|DEL0000001446|counter1|counter1DEL0000001...</td>\n",
       "    </tr>\n",
       "    <tr>\n",
       "      <th>2</th>\n",
       "      <td>BUSY|DEL0000001446|counter1|counter1DEL0000001...</td>\n",
       "    </tr>\n",
       "    <tr>\n",
       "      <th>3</th>\n",
       "      <td>BUSY|DEL0000001446|counter1|counter1DEL0000001...</td>\n",
       "    </tr>\n",
       "    <tr>\n",
       "      <th>4</th>\n",
       "      <td>BUSY|DEL0000001446|counter1|counter1DEL0000001...</td>\n",
       "    </tr>\n",
       "    <tr>\n",
       "      <th>5</th>\n",
       "      <td>BUSY|DEL0000001446|counter1|counter1DEL0000001...</td>\n",
       "    </tr>\n",
       "    <tr>\n",
       "      <th>6</th>\n",
       "      <td>BUSY|DEL0000001446|counter1|counter1DEL0000001...</td>\n",
       "    </tr>\n",
       "    <tr>\n",
       "      <th>7</th>\n",
       "      <td>BUSY|DEL0000001446|counter1|counter1DEL0000001...</td>\n",
       "    </tr>\n",
       "    <tr>\n",
       "      <th>8</th>\n",
       "      <td>BUSY|DEL0000001446|counter1|counter1DEL0000001...</td>\n",
       "    </tr>\n",
       "    <tr>\n",
       "      <th>9</th>\n",
       "      <td>BUSY|DEL0000001446|counter1|counter1DEL0000001...</td>\n",
       "    </tr>\n",
       "  </tbody>\n",
       "</table>\n",
       "</div>"
      ],
      "text/plain": [
       "  POS_Application_Name|STOREID|MACID|BILLNO|BARCODE|GUID|CREATED_STAMP|CAPTURED_WINDOW|UPDATE_STAMP\n",
       "0  BUSY|DEL0000001446|counter1|counter1DEL0000001...                                               \n",
       "1  BUSY|DEL0000001446|counter1|counter1DEL0000001...                                               \n",
       "2  BUSY|DEL0000001446|counter1|counter1DEL0000001...                                               \n",
       "3  BUSY|DEL0000001446|counter1|counter1DEL0000001...                                               \n",
       "4  BUSY|DEL0000001446|counter1|counter1DEL0000001...                                               \n",
       "5  BUSY|DEL0000001446|counter1|counter1DEL0000001...                                               \n",
       "6  BUSY|DEL0000001446|counter1|counter1DEL0000001...                                               \n",
       "7  BUSY|DEL0000001446|counter1|counter1DEL0000001...                                               \n",
       "8  BUSY|DEL0000001446|counter1|counter1DEL0000001...                                               \n",
       "9  BUSY|DEL0000001446|counter1|counter1DEL0000001...                                               "
      ]
     },
     "execution_count": 3,
     "metadata": {},
     "output_type": "execute_result"
    }
   ],
   "source": [
    "matplotlib.style.use('ggplot')\n",
    "store_raw.head(10)"
   ]
  },
  {
   "cell_type": "markdown",
   "metadata": {},
   "source": [
    "## Data Wrangling Phase\n",
    "\n"
   ]
  },
  {
   "cell_type": "code",
   "execution_count": 4,
   "metadata": {
    "collapsed": true
   },
   "outputs": [],
   "source": [
    "# foo = lambda x: pd.Series([i for i in reversed(x.split('|'))])\n",
    "# rev = store_raw['POS_Application_Name, STOREID, MACID, BILLNO, BARCODE, GUID, CREATED_STAMP, CAPTURED_WINDOW, UPDATE_STAMP'].apply(foo)\n",
    "# rev\n",
    "initial = 'POS_Application_Name|STOREID|MACID|BILLNO|BARCODE|GUID|CREATED_STAMP|CAPTURED_WINDOW|UPDATE_STAMP'\n",
    "store_raw = store_raw[initial].str.split('|', expand=True)"
   ]
  },
  {
   "cell_type": "code",
   "execution_count": 5,
   "metadata": {
    "collapsed": true
   },
   "outputs": [],
   "source": [
    "store = store_raw.drop([9,10,11,12,13,14,15,16], axis=1)"
   ]
  },
  {
   "cell_type": "code",
   "execution_count": 6,
   "metadata": {},
   "outputs": [
    {
     "data": {
      "text/plain": [
       "0    462463\n",
       "1    462463\n",
       "2    462463\n",
       "3    462463\n",
       "4    462463\n",
       "5    462463\n",
       "6    462463\n",
       "7    462463\n",
       "8    462381\n",
       "dtype: int64"
      ]
     },
     "execution_count": 6,
     "metadata": {},
     "output_type": "execute_result"
    }
   ],
   "source": [
    "store.count()"
   ]
  },
  {
   "cell_type": "code",
   "execution_count": 7,
   "metadata": {},
   "outputs": [
    {
     "data": {
      "text/plain": [
       "0    462381\n",
       "1    462381\n",
       "2    462381\n",
       "3    462381\n",
       "4    462381\n",
       "5    462381\n",
       "6    462381\n",
       "7    462381\n",
       "8    462381\n",
       "dtype: int64"
      ]
     },
     "execution_count": 7,
     "metadata": {},
     "output_type": "execute_result"
    }
   ],
   "source": [
    "store.dropna(inplace=True)\n",
    "store.count()"
   ]
  },
  {
   "cell_type": "code",
   "execution_count": 8,
   "metadata": {
    "collapsed": true
   },
   "outputs": [],
   "source": [
    "store.columns = ['POS_Application_Name', 'STOREID','MACID','BILLNO','BARCODE','GUID','CREATED_STAMP','CAPTURED_WINDOW','UPDATE_STAMP']"
   ]
  },
  {
   "cell_type": "markdown",
   "metadata": {},
   "source": [
    "## Exploration Phase\n",
    "\n",
    "In this phase we will explore our data in more detail and extract out the analysis and prove them with the help of visualizations."
   ]
  },
  {
   "cell_type": "code",
   "execution_count": 10,
   "metadata": {},
   "outputs": [
    {
     "data": {
      "text/html": [
       "<div>\n",
       "<style>\n",
       "    .dataframe thead tr:only-child th {\n",
       "        text-align: right;\n",
       "    }\n",
       "\n",
       "    .dataframe thead th {\n",
       "        text-align: left;\n",
       "    }\n",
       "\n",
       "    .dataframe tbody tr th {\n",
       "        vertical-align: top;\n",
       "    }\n",
       "</style>\n",
       "<table border=\"1\" class=\"dataframe\">\n",
       "  <thead>\n",
       "    <tr style=\"text-align: right;\">\n",
       "      <th></th>\n",
       "      <th>POS_Application_Name</th>\n",
       "      <th>STOREID</th>\n",
       "      <th>MACID</th>\n",
       "      <th>BILLNO</th>\n",
       "      <th>BARCODE</th>\n",
       "      <th>GUID</th>\n",
       "      <th>CREATED_STAMP</th>\n",
       "      <th>CAPTURED_WINDOW</th>\n",
       "      <th>UPDATE_STAMP</th>\n",
       "    </tr>\n",
       "  </thead>\n",
       "  <tbody>\n",
       "    <tr>\n",
       "      <th>count</th>\n",
       "      <td>462381</td>\n",
       "      <td>462381</td>\n",
       "      <td>462381</td>\n",
       "      <td>462381</td>\n",
       "      <td>462381</td>\n",
       "      <td>462381</td>\n",
       "      <td>462381</td>\n",
       "      <td>462381</td>\n",
       "      <td>462381</td>\n",
       "    </tr>\n",
       "    <tr>\n",
       "      <th>unique</th>\n",
       "      <td>1</td>\n",
       "      <td>5</td>\n",
       "      <td>15</td>\n",
       "      <td>32111</td>\n",
       "      <td>32690</td>\n",
       "      <td>462376</td>\n",
       "      <td>461553</td>\n",
       "      <td>668</td>\n",
       "      <td>461180</td>\n",
       "    </tr>\n",
       "    <tr>\n",
       "      <th>top</th>\n",
       "      <td>BUSY</td>\n",
       "      <td>DEL0000000103</td>\n",
       "      <td>counter1</td>\n",
       "      <td>Counter2DEL0000000103817</td>\n",
       "      <td>1</td>\n",
       "      <td>0</td>\n",
       "      <td>2017-01-11 22:50:20.155</td>\n",
       "      <td>NULL</td>\n",
       "      <td>Demo-15 User</td>\n",
       "    </tr>\n",
       "    <tr>\n",
       "      <th>freq</th>\n",
       "      <td>462381</td>\n",
       "      <td>342270</td>\n",
       "      <td>398236</td>\n",
       "      <td>3744</td>\n",
       "      <td>82820</td>\n",
       "      <td>4</td>\n",
       "      <td>4</td>\n",
       "      <td>421865</td>\n",
       "      <td>702</td>\n",
       "    </tr>\n",
       "  </tbody>\n",
       "</table>\n",
       "</div>"
      ],
      "text/plain": [
       "       POS_Application_Name        STOREID     MACID  \\\n",
       "count                462381         462381    462381   \n",
       "unique                    1              5        15   \n",
       "top                    BUSY  DEL0000000103  counter1   \n",
       "freq                 462381         342270    398236   \n",
       "\n",
       "                          BILLNO BARCODE    GUID            CREATED_STAMP  \\\n",
       "count                     462381  462381  462381                   462381   \n",
       "unique                     32111   32690  462376                   461553   \n",
       "top     Counter2DEL0000000103817       1       0  2017-01-11 22:50:20.155   \n",
       "freq                        3744   82820       4                        4   \n",
       "\n",
       "       CAPTURED_WINDOW  UPDATE_STAMP  \n",
       "count           462381        462381  \n",
       "unique             668        461180  \n",
       "top               NULL  Demo-15 User  \n",
       "freq            421865           702  "
      ]
     },
     "execution_count": 10,
     "metadata": {},
     "output_type": "execute_result"
    }
   ],
   "source": [
    "store.describe()"
   ]
  },
  {
   "cell_type": "code",
   "execution_count": 11,
   "metadata": {},
   "outputs": [
    {
     "data": {
      "text/plain": [
       "STOREID\n",
       "DEL0000000103    342270\n",
       "DEL0000001184     26307\n",
       "DEL0000001446     63377\n",
       "UPR0000001228       344\n",
       "UPR0000002773     30083\n",
       "Name: BARCODE, dtype: int64"
      ]
     },
     "execution_count": 11,
     "metadata": {},
     "output_type": "execute_result"
    }
   ],
   "source": [
    "x = store.groupby(['STOREID'])['BARCODE'].count()\n",
    "x"
   ]
  },
  {
   "cell_type": "code",
   "execution_count": 95,
   "metadata": {},
   "outputs": [
    {
     "data": {
      "text/plain": [
       "STOREID        MACID   \n",
       "DEL0000000103  23372129         1\n",
       "               23942158         1\n",
       "               24920107         1\n",
       "               24971184         1\n",
       "               Counter2      7357\n",
       "               counter1    334909\n",
       "DEL0000001184  COUNTER8      3526\n",
       "               Counter1     20885\n",
       "               Counter5      1896\n",
       "DEL0000001446  24749329         1\n",
       "               25107385         1\n",
       "               25146601         1\n",
       "               COUNTER8        18\n",
       "               Counter5        29\n",
       "               counter1     63327\n",
       "UPR0000001228  Counter1         1\n",
       "               Counter2        18\n",
       "               Counter3        90\n",
       "               counter2       235\n",
       "UPR0000002773  Counter1     28243\n",
       "               Counter2        74\n",
       "               Counter3       584\n",
       "               Counter4        87\n",
       "               Counter5      1095\n",
       "Name: BARCODE, dtype: int64"
      ]
     },
     "execution_count": 95,
     "metadata": {},
     "output_type": "execute_result"
    }
   ],
   "source": [
    "str_mac = store.groupby(['STOREID', 'MACID'])['BARCODE'].count()\n",
    "str_mac"
   ]
  },
  {
   "cell_type": "code",
   "execution_count": 28,
   "metadata": {},
   "outputs": [
    {
     "name": "stdout",
     "output_type": "stream",
     "text": [
      "Populating the interactive namespace from numpy and matplotlib\n"
     ]
    },
    {
     "data": {
      "text/plain": [
       "[<matplotlib.text.Text at 0x29382d68>, <matplotlib.text.Text at 0x293638d0>]"
      ]
     },
     "execution_count": 28,
     "metadata": {},
     "output_type": "execute_result"
    },
    {
     "data": {
      "image/png": "[encoded data removed]",
      "text/plain": [
       "<matplotlib.figure.Figure at 0x29ca6a58>"
      ]
     },
     "metadata": {},
     "output_type": "display_data"
    }
   ],
   "source": [
    "%pylab inline\n",
    "\n",
    "ax = x.plot(kind='bar',\n",
    "            title='Number of stores',\n",
    "            grid=True,\n",
    "            legend=True,\n",
    "            color=\"green\")\n",
    "for i in range(0,len(x)):\n",
    "    ax.text(i, x.iloc[i], x.iloc[i], color='black',ha='center')\n",
    "    \n",
    "ax.set(xlabel=\"Male or Female\", ylabel=\"percentage of people saved\")"
   ]
  },
  {
   "cell_type": "code",
   "execution_count": 13,
   "metadata": {},
   "outputs": [
    {
     "data": {
      "text/plain": [
       "MACID\n",
       "23372129         1\n",
       "23942158         1\n",
       "24749329         1\n",
       "24920107         1\n",
       "24971184         1\n",
       "25107385         1\n",
       "25146601         1\n",
       "COUNTER8      3544\n",
       "Counter1     49129\n",
       "Counter2      7449\n",
       "Counter3       674\n",
       "Counter4        87\n",
       "Counter5      3020\n",
       "counter1    398236\n",
       "counter2       235\n",
       "Name: BARCODE, dtype: int64"
      ]
     },
     "execution_count": 13,
     "metadata": {},
     "output_type": "execute_result"
    }
   ],
   "source": [
    "y = store.groupby(['MACID'])['BARCODE'].count()\n",
    "y"
   ]
  },
  {
   "cell_type": "code",
   "execution_count": 14,
   "metadata": {},
   "outputs": [
    {
     "data": {
      "text/plain": [
       "MACID\n",
       "COUNTER8     3544\n",
       "Counter1    49129\n",
       "Counter2     7449\n",
       "Counter3      674\n",
       "Counter4       87\n",
       "Counter5     3020\n",
       "counter2      235\n",
       "Name: BARCODE, dtype: int64"
      ]
     },
     "execution_count": 14,
     "metadata": {},
     "output_type": "execute_result"
    }
   ],
   "source": [
    "z = y[y >= y.median()]\n",
    "z = z[z < z.max()]    # Removing outlier\n",
    "z"
   ]
  },
  {
   "cell_type": "code",
   "execution_count": 18,
   "metadata": {},
   "outputs": [
    {
     "data": {
      "text/plain": [
       "[<matplotlib.text.Text at 0x28632438>, <matplotlib.text.Text at 0x2802ebe0>]"
      ]
     },
     "execution_count": 18,
     "metadata": {},
     "output_type": "execute_result"
    },
    {
     "data": {
      "image/png": "[encoded data removed]",
      "text/plain": [
       "<matplotlib.figure.Figure at 0x28437748>"
      ]
     },
     "metadata": {},
     "output_type": "display_data"
    }
   ],
   "source": [
    "ax = z.plot(kind='bar',\n",
    "            title='Number of stores',\n",
    "            grid=True,\n",
    "            legend=True,\n",
    "            color=\"blue\")\n",
    "for i in range(0,len(z)):\n",
    "    ax.text(i, z.iloc[i], z.iloc[i], color='black',ha='center')\n",
    "    \n",
    "ax.set(xlabel=\"Male or Female\", ylabel=\"percentage of people saved\")"
   ]
  },
  {
   "cell_type": "code",
   "execution_count": 97,
   "metadata": {},
   "outputs": [
    {
     "data": {
      "text/plain": [
       "4245"
      ]
     },
     "execution_count": 97,
     "metadata": {},
     "output_type": "execute_result"
    }
   ],
   "source": [
    "one_product_per_bill = pd.concat(g for _, g in store.groupby(\"BILLNO\") if len(g) == 1)\n",
    "len(one_product_per_bill)"
   ]
  },
  {
   "cell_type": "code",
   "execution_count": 78,
   "metadata": {},
   "outputs": [
    {
     "data": {
      "text/plain": [
       "458136"
      ]
     },
     "execution_count": 78,
     "metadata": {},
     "output_type": "execute_result"
    }
   ],
   "source": [
    "more_than_one_bill = pd.concat(g for _, g in store.groupby(\"BILLNO\") if len(g) > 1)\n",
    "len(more_than_one_bill)"
   ]
  },
  {
   "cell_type": "code",
   "execution_count": 89,
   "metadata": {},
   "outputs": [
    {
     "data": {
      "text/plain": [
       "count    27866.00000\n",
       "mean        16.44068\n",
       "std         31.09707\n",
       "min          2.00000\n",
       "25%          4.00000\n",
       "50%          8.00000\n",
       "75%         19.00000\n",
       "max       3744.00000\n",
       "Name: BARCODE, dtype: float64"
      ]
     },
     "execution_count": 89,
     "metadata": {},
     "output_type": "execute_result"
    }
   ],
   "source": [
    "bill_group = more_than_one_bill.groupby('BILLNO')['BARCODE'].count()\n",
    "bill_group.describe()"
   ]
  },
  {
   "cell_type": "code",
   "execution_count": 90,
   "metadata": {
    "collapsed": true
   },
   "outputs": [],
   "source": [
    "bill_group.sort_values(inplace=True, ascending=False)"
   ]
  },
  {
   "cell_type": "code",
   "execution_count": 91,
   "metadata": {},
   "outputs": [
    {
     "data": {
      "text/plain": [
       "[<matplotlib.text.Text at 0x3ac50668>, <matplotlib.text.Text at 0x3abcec88>]"
      ]
     },
     "execution_count": 91,
     "metadata": {},
     "output_type": "execute_result"
    },
    {
     "data": {
      "image/png": "[encoded data removed]",
      "text/plain": [
       "<matplotlib.figure.Figure at 0x3abe2c88>"
      ]
     },
     "metadata": {},
     "output_type": "display_data"
    }
   ],
   "source": [
    "ax = bill_group.head(10).plot(kind='bar',\n",
    "            title='Number of stores',\n",
    "            grid=True,\n",
    "            legend=True,\n",
    "            color=\"orange\")\n",
    "for i in range(0,10):\n",
    "    ax.text(i, bill_group.head(10).iloc[i], bill_group.head(10).iloc[i], color='black',ha='center')\n",
    "    \n",
    "ax.set(xlabel=\"Male or Female\", ylabel=\"percentage of people saved\")"
   ]
  },
  {
   "cell_type": "code",
   "execution_count": 101,
   "metadata": {},
   "outputs": [
    {
     "data": {
      "text/plain": [
       "441712"
      ]
     },
     "execution_count": 101,
     "metadata": {},
     "output_type": "execute_result"
    }
   ],
   "source": [
    "more_than_one_barcode = pd.concat(g for _, g in store.groupby(\"BARCODE\") if len(g) > 1)\n",
    "len(more_than_one_barcode)\n",
    "# Barcode can never be same, therefore these are the number of products on which offer was applied or were manual entries"
   ]
  }
 ],
 "metadata": {
  "kernelspec": {
   "display_name": "Python 2",
   "language": "python",
   "name": "python2"
  },
  "language_info": {
   "codemirror_mode": {
    "name": "ipython",
    "version": 2
   },
   "file_extension": ".py",
   "mimetype": "text/x-python",
   "name": "python",
   "nbconvert_exporter": "python",
   "pygments_lexer": "ipython2",
   "version": "2.7.13"
  }
 },
 "nbformat": 4,
 "nbformat_minor": 2
}
